{
 "metadata": {
  "name": ""
 },
 "nbformat": 3,
 "nbformat_minor": 0,
 "worksheets": [
  {
   "cells": [
    {
     "cell_type": "markdown",
     "metadata": {},
     "source": [
      "# Converting Pinboard.in to CSV\n",
      "\n",
      "Tony has saved tons of stuff on Pinboard.in, let's convert this to a csv so we can all categorize stuff using a spreadsheet.\n"
     ]
    },
    {
     "cell_type": "code",
     "collapsed": false,
     "input": [
      "import urllib2, lxml.etree,re"
     ],
     "language": "python",
     "metadata": {},
     "outputs": [],
     "prompt_number": 52
    },
    {
     "cell_type": "code",
     "collapsed": false,
     "input": [
      "u=urllib2.urlopen(\"https://feeds.pinboard.in/rss/t:scodamd/\")\n",
      "data=u.read()\n",
      "u.close()"
     ],
     "language": "python",
     "metadata": {},
     "outputs": [],
     "prompt_number": 2
    },
    {
     "cell_type": "code",
     "collapsed": false,
     "input": [
      "root=lxml.etree.fromstring(data)\n"
     ],
     "language": "python",
     "metadata": {},
     "outputs": [],
     "prompt_number": 6
    },
    {
     "cell_type": "code",
     "collapsed": false,
     "input": [
      "ns=[(\"rss\",\"http://purl.org/rss/1.0/\"),(\"rdf\",\"http://www.w3.org/1999/02/22-rdf-syntax-ns#\"),(\"taxo\",\"http://purl.org/rss/1.0/modules/taxonomy/\")]"
     ],
     "language": "python",
     "metadata": {},
     "outputs": [],
     "prompt_number": 20
    },
    {
     "cell_type": "code",
     "collapsed": false,
     "input": [
      "items=root.xpath(\"//rss:item\",namespaces=ns)"
     ],
     "language": "python",
     "metadata": {},
     "outputs": [],
     "prompt_number": 24
    },
    {
     "cell_type": "code",
     "collapsed": false,
     "input": [
      "items"
     ],
     "language": "python",
     "metadata": {},
     "outputs": [
      {
       "metadata": {},
       "output_type": "pyout",
       "prompt_number": 29,
       "text": [
        "[<Element {http://purl.org/rss/1.0/}item at 0x1d7a550>,\n",
        " <Element {http://purl.org/rss/1.0/}item at 0x1d7a5a0>,\n",
        " <Element {http://purl.org/rss/1.0/}item at 0x1d7a5f0>,\n",
        " <Element {http://purl.org/rss/1.0/}item at 0x1d7a640>,\n",
        " <Element {http://purl.org/rss/1.0/}item at 0x1d7a690>,\n",
        " <Element {http://purl.org/rss/1.0/}item at 0x1d7a6e0>,\n",
        " <Element {http://purl.org/rss/1.0/}item at 0x1d7a730>,\n",
        " <Element {http://purl.org/rss/1.0/}item at 0x1d7a780>,\n",
        " <Element {http://purl.org/rss/1.0/}item at 0x1d7a7d0>,\n",
        " <Element {http://purl.org/rss/1.0/}item at 0x1d7a820>,\n",
        " <Element {http://purl.org/rss/1.0/}item at 0x1d7a870>,\n",
        " <Element {http://purl.org/rss/1.0/}item at 0x1d7a8c0>,\n",
        " <Element {http://purl.org/rss/1.0/}item at 0x1d7a910>,\n",
        " <Element {http://purl.org/rss/1.0/}item at 0x1d7a960>,\n",
        " <Element {http://purl.org/rss/1.0/}item at 0x1d7a9b0>,\n",
        " <Element {http://purl.org/rss/1.0/}item at 0x1d7aa00>,\n",
        " <Element {http://purl.org/rss/1.0/}item at 0x1d7aa50>,\n",
        " <Element {http://purl.org/rss/1.0/}item at 0x1d7aaa0>,\n",
        " <Element {http://purl.org/rss/1.0/}item at 0x1d7aaf0>,\n",
        " <Element {http://purl.org/rss/1.0/}item at 0x1d7ab40>,\n",
        " <Element {http://purl.org/rss/1.0/}item at 0x1d7ab90>,\n",
        " <Element {http://purl.org/rss/1.0/}item at 0x1d7abe0>,\n",
        " <Element {http://purl.org/rss/1.0/}item at 0x1d7ac30>,\n",
        " <Element {http://purl.org/rss/1.0/}item at 0x1d7ac80>,\n",
        " <Element {http://purl.org/rss/1.0/}item at 0x1d7acd0>,\n",
        " <Element {http://purl.org/rss/1.0/}item at 0x1d7ad20>]"
       ]
      }
     ],
     "prompt_number": 29
    },
    {
     "cell_type": "code",
     "collapsed": false,
     "input": [
      "def tagdict(x,y):\n",
      "    x[y[0]]=x.get(y[0],\"\")+y[1]+\" \"\n",
      "    return x\n",
      "\n",
      "def process_item(i):\n",
      "    link=i.xpath(\"./rss:link\",namespaces=ns)[0].text\n",
      "    title=i.xpath(\"./rss:title\",namespaces=ns)[0].text.split(\"|\")[0].strip().encode(\"utf-8\")\n",
      "    tags=[re.search(\"/t:([a-zA-Z0-9:]+)$\",n.attrib[\"{http://www.w3.org/1999/02/22-rdf-syntax-ns#}resource\"]).group(1) for n in i.xpath(\"./taxo:topics/rdf:Bag/rdf:li\",namespaces=ns)]\n",
      "    r=reduce(tagdict,[(j[0],j[1]) for j in filter(lambda x: len(x)>1, [i.split(\":\") for i in tags])],{})\n",
      "    r[\"link\"]=link\n",
      "    r[\"title\"]=title\n",
      "    return r"
     ],
     "language": "python",
     "metadata": {},
     "outputs": [],
     "prompt_number": 110
    },
    {
     "cell_type": "code",
     "collapsed": false,
     "input": [
      "courses=[process_item(i) for i in items]"
     ],
     "language": "python",
     "metadata": {},
     "outputs": [],
     "prompt_number": 111
    },
    {
     "cell_type": "code",
     "collapsed": false,
     "input": [
      "import csv\n",
      "f=open(\"tagged-courses.csv\",\"wb\")\n",
      "w=csv.DictWriter(f,delimiter=\",\",fieldnames=[\"title\",\"link\",\"course\",\"theme\",\"level\",\"skill\",\"skilll\",\"tool\",\"topic\",\"media\",\"audience\",\"meta\"])\n",
      "for c in courses:\n",
      "    w.writerow(c)\n",
      "f.close()"
     ],
     "language": "python",
     "metadata": {},
     "outputs": [],
     "prompt_number": 113
    },
    {
     "cell_type": "code",
     "collapsed": false,
     "input": [
      "\n"
     ],
     "language": "python",
     "metadata": {},
     "outputs": [
      {
       "ename": "SyntaxError",
       "evalue": "lambda cannot contain assignment (<ipython-input-105-1c478a2d6bc8>, line 1)",
       "output_type": "pyerr",
       "traceback": [
        "\u001b[1;36m  File \u001b[1;32m\"<ipython-input-105-1c478a2d6bc8>\"\u001b[1;36m, line \u001b[1;32m1\u001b[0m\n\u001b[1;33m    reduce(lambda x,y: x[y[0]]=x.get(y[0],\"\")+y[1]+\" \",[(\"a\",\"b\"),(\"a\",\"c\")],{})\u001b[0m\n\u001b[1;31mSyntaxError\u001b[0m\u001b[1;31m:\u001b[0m lambda cannot contain assignment\n"
       ]
      }
     ],
     "prompt_number": 105
    },
    {
     "cell_type": "code",
     "collapsed": false,
     "input": [
      "courses\n"
     ],
     "language": "python",
     "metadata": {},
     "outputs": [
      {
       "metadata": {},
       "output_type": "pyout",
       "prompt_number": 112,
       "text": [
        "[{'course': 'WorkingWithBudgetAndSpendingData ',\n",
        "  'level': 'basic ',\n",
        "  'link': 'http://schoolofdata.org/handbook/courses/classifying-financial-data/',\n",
        "  'theme': 'scoping analyzing ',\n",
        "  'title': 'Choosing an audience and classifying your data'},\n",
        " {'course': 'WorkingWithBudgetAndSpendingData ',\n",
        "  'level': 'basic ',\n",
        "  'link': 'http://schoolofdata.org/handbook/courses/cleaning-spending-data/',\n",
        "  'theme': 'cleaning scoping ',\n",
        "  'title': 'Cleaning spending data'},\n",
        " {'course': 'WorkingWithBudgetAndSpendingData ',\n",
        "  'level': 'basic ',\n",
        "  'link': 'http://schoolofdata.org/handbook/courses/categorisation-and-reference-data/',\n",
        "  'skilll': 'identifiers ',\n",
        "  'theme': 'scoping ',\n",
        "  'title': 'Categorization and reference data'},\n",
        " {'course': 'WorkingWithBudgetAndSpendingData ',\n",
        "  'level': 'basic ',\n",
        "  'link': 'http://schoolofdata.org/handbook/courses/budgets-and-spending-intro/',\n",
        "  'theme': 'scoping ',\n",
        "  'title': 'What is the difference between budgets and spending?'},\n",
        " {'course': 'GentleIntroExtractingData ',\n",
        "  'level': 'advanced ',\n",
        "  'link': 'http://schoolofdata.org/handbook/courses/extracting-data-from-pdf/',\n",
        "  'skill': 'scraping ',\n",
        "  'theme': 'getting ',\n",
        "  'title': 'Extracting Data from PDFs',\n",
        "  'tool': ' ',\n",
        "  'topic': 'process '},\n",
        " {'course': 'GentleIntroExtractingData ',\n",
        "  'level': 'basic ',\n",
        "  'link': 'http://schoolofdata.org/handbook/courses/scraping/',\n",
        "  'skill': 'scraping ',\n",
        "  'theme': 'getting ',\n",
        "  'title': 'Making data on the web useful: scraping',\n",
        "  'tool': 'chromeScraperExtension ScraperWiki '},\n",
        " {'course': 'GentleIntroGeocoding ',\n",
        "  'level': 'basic ',\n",
        "  'link': 'http://schoolofdata.org/handbook/courses/geocoding/',\n",
        "  'skill': 'geocoding ',\n",
        "  'theme': 'cleaning ',\n",
        "  'title': 'Online geocoding',\n",
        "  'tool': 'MapQuest '},\n",
        " {'audience': 'journalists ',\n",
        "  'course': 'SchoolOfDataJourn ',\n",
        "  'level': 'basic ',\n",
        "  'link': 'http://schoolofdata.org/handbook/courses/asking-for-data/',\n",
        "  'media': 'video ',\n",
        "  'theme': 'getting ',\n",
        "  'title': 'Asking for Data'},\n",
        " {'audience': 'journalists ',\n",
        "  'course': 'SchoolOfDataJourn ',\n",
        "  'level': 'basic ',\n",
        "  'link': 'http://schoolofdata.org/handbook/courses/making-data-pretty/',\n",
        "  'media': 'video ',\n",
        "  'theme': 'visualizing ',\n",
        "  'title': 'Making Data Pretty',\n",
        "  'tool': 'Excel GoogleCharts DataWrapper '},\n",
        " {'audience': 'journalists ',\n",
        "  'course': 'SchoolOfDataJourn ',\n",
        "  'level': 'basic ',\n",
        "  'link': 'http://schoolofdata.org/handbook/courses/spending-stories/',\n",
        "  'media': 'video ',\n",
        "  'theme': 'cleaning ',\n",
        "  'title': 'Spending Stories',\n",
        "  'tool': 'OpenRefine '},\n",
        " {'audience': 'journalists ',\n",
        "  'course': 'SchoolOfDataJourn ',\n",
        "  'level': 'basic ',\n",
        "  'link': 'http://schoolofdata.org/handbook/courses/getting-stories-from-data/',\n",
        "  'media': 'video ',\n",
        "  'theme': 'scoping ',\n",
        "  'title': 'Getting Stories from Data'},\n",
        " {'course': 'IntroExploringData ',\n",
        "  'level': 'basic ',\n",
        "  'link': 'http://schoolofdata.org/handbook/courses/gentle-introduction-exploring-and-understanding-data/',\n",
        "  'skill': 'filtering charting pivotTable reshaping ',\n",
        "  'theme': 'analyzing ',\n",
        "  'title': 'A gentle introduction to exploring and understanding your data',\n",
        "  'tool': 'LibreOffice '},\n",
        " {'course': 'IntroDataCleaning ',\n",
        "  'level': 'basic ',\n",
        "  'link': 'http://schoolofdata.org/handbook/courses/data-cleaning-wrong-suitcase/',\n",
        "  'skill': 'transposition reshaping ',\n",
        "  'theme': 'cleaning ',\n",
        "  'title': 'Section 4: Did you bring the wrong suitcase (again)?',\n",
        "  'topic': 'spreadsheets '},\n",
        " {'course': 'IntroDataCleaning ',\n",
        "  'level': 'basic ',\n",
        "  'link': 'http://schoolofdata.org/handbook/courses/data-cleaning-witchs-brew/',\n",
        "  'theme': 'cleaning ',\n",
        "  'title': 'Section 3: your data is a witch\\xe2\\x80\\x99s brew',\n",
        "  'topic': 'spreadsheets '},\n",
        " {'course': 'IntroDataCleaning ',\n",
        "  'level': 'basic ',\n",
        "  'link': 'http://schoolofdata.org/handbook/courses/',\n",
        "  'theme': 'cleaning ',\n",
        "  'title': 'Courses',\n",
        "  'topic': 'spreadsheets '},\n",
        " {'course': 'IntroDataCleaning ',\n",
        "  'level': 'basic ',\n",
        "  'link': 'http://schoolofdata.org/handbook/courses/data-cleaning-invisible-man-in-spreadsheets/',\n",
        "  'theme': 'cleaning ',\n",
        "  'title': 'Section 2: the Invisible Man is in your spreadsheet, messing with your data',\n",
        "  'topic': 'spreadsheets '},\n",
        " {'course': 'IntroDataCleaning ',\n",
        "  'level': 'basic ',\n",
        "  'link': 'http://schoolofdata.org/handbook/courses/data-cleaning-nuts-and-gum/',\n",
        "  'theme': 'cleaning ',\n",
        "  'title': 'Section 1: Nuts and chewing gum',\n",
        "  'topic': 'spreadsheets '},\n",
        " {'course': 'IntroDataCleaning ',\n",
        "  'level': 'basic ',\n",
        "  'link': 'http://schoolofdata.org/handbook/courses/data-cleaning/',\n",
        "  'meta': 'courseDescription ',\n",
        "  'theme': 'cleaning ',\n",
        "  'title': 'Course outline: a gentle introduction to cleaning data',\n",
        "  'topic': 'courseDescription '},\n",
        " {'course': 'DataFundamentals ',\n",
        "  'level': 'basic ',\n",
        "  'link': 'http://schoolofdata.org/handbook/courses/tell-me-a-story/',\n",
        "  'theme': 'communicating ',\n",
        "  'title': 'Tell me a story: Working out what\\xe2\\x80\\x99s interesting in your data'},\n",
        " {'course': 'DataFundamentals ',\n",
        "  'level': 'basic ',\n",
        "  'link': 'http://schoolofdata.org/handbook/courses/common-misconceptions/',\n",
        "  'skill': 'critique ',\n",
        "  'theme': 'analysis communicating ',\n",
        "  'title': 'Look Out!: Common Misconceptions and how to avoid them.'},\n",
        " {'course': 'DataFundamentals ',\n",
        "  'level': 'basic ',\n",
        "  'link': 'http://schoolofdata.org/handbook/courses/data-to-diagrams/',\n",
        "  'theme': 'visualizing ',\n",
        "  'title': 'From Data to Diagrams: An introduction to plots and charts',\n",
        "  'tool': 'googlespreadsheets '},\n",
        " {'course': 'DataFundamentals ',\n",
        "  'level': 'basic ',\n",
        "  'link': 'http://schoolofdata.org/handbook/courses/analyzing-data/',\n",
        "  'skill': 'spreadsheets formulas ',\n",
        "  'theme': 'analyzing ',\n",
        "  'title': '\\xe2\\x80\\x98But what does it mean?\\xe2\\x80\\x99: Analyzing data (spreadsheets continued)',\n",
        "  'tool': 'googlespreadsheet '},\n",
        " {'course': 'DataFundamentals ',\n",
        "  'level': 'basic ',\n",
        "  'link': 'http://schoolofdata.org/handbook/courses/sort-and-filter/',\n",
        "  'skill': 'previewing sorting filtering ',\n",
        "  'theme': 'getting ',\n",
        "  'title': 'Sort and Filter: The basics of spreadsheets',\n",
        "  'tool': 'googlespreadsheet '},\n",
        " {'course': 'DataFundamentals ',\n",
        "  'level': 'basic ',\n",
        "  'link': 'http://schoolofdata.org/handbook/courses/finding-data/',\n",
        "  'theme': 'finding ',\n",
        "  'title': 'Finding Data'},\n",
        " {'course': 'DataFundamentals ',\n",
        "  'level': 'basic ',\n",
        "  'link': 'http://schoolofdata.org/handbook/courses/data-provenance/',\n",
        "  'theme': 'managing ',\n",
        "  'title': 'Data provenance'},\n",
        " {'course': 'DataFundamentals ',\n",
        "  'level': 'basic ',\n",
        "  'link': 'http://schoolofdata.org/handbook/courses/what-is-data/',\n",
        "  'theme': 'scoping ',\n",
        "  'title': 'What is Data?'}]"
       ]
      }
     ],
     "prompt_number": 112
    },
    {
     "cell_type": "code",
     "collapsed": false,
     "input": [],
     "language": "python",
     "metadata": {},
     "outputs": []
    }
   ],
   "metadata": {}
  }
 ]
}